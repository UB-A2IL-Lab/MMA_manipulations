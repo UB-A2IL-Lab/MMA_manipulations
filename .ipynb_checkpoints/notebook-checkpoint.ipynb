{
 "cells": [
  {
   "cell_type": "code",
   "execution_count": 1,
   "id": "12f4f63e-c508-4b8b-9f9d-e0b930236ed2",
   "metadata": {},
   "outputs": [
    {
     "name": "stderr",
     "output_type": "stream",
     "text": [
      "/Users/vinay/miniforge3/lib/python3.9/site-packages/jax/_src/lib/__init__.py:32: UserWarning: JAX on Mac ARM machines is experimental and minimally tested. Please see https://github.com/google/jax/issues/5501 in the event of problems.\n",
      "  warnings.warn(\"JAX on Mac ARM machines is experimental and minimally tested. \"\n"
     ]
    }
   ],
   "source": [
    "from text_transformer import TTransform"
   ]
  },
  {
   "cell_type": "code",
   "execution_count": 2,
   "id": "79078cb4-0d9e-4af0-9537-4bb1b4b8d1de",
   "metadata": {},
   "outputs": [
    {
     "name": "stderr",
     "output_type": "stream",
     "text": [
      "[nltk_data] Downloading package wordnet to /Users/vinay/nltk_data...\n",
      "[nltk_data]   Package wordnet is already up-to-date!\n",
      "[nltk_data] Downloading package omw-1.4 to /Users/vinay/nltk_data...\n",
      "[nltk_data]   Package omw-1.4 is already up-to-date!\n"
     ]
    }
   ],
   "source": [
    "transformer = TTransform('', '', '.')"
   ]
  },
  {
   "cell_type": "code",
   "execution_count": 3,
   "id": "8012b7b4-f616-4bca-99e9-1e0909be37e8",
   "metadata": {},
   "outputs": [
    {
     "data": {
      "text/plain": [
       "'The most cheap cities are most prone to coronovirus'"
      ]
     },
     "execution_count": 3,
     "metadata": {},
     "output_type": "execute_result"
    }
   ],
   "source": [
    "posList = set(['NOUN', 'VERB', 'ADJ', 'ADV'])\n",
    "transformer.replacePOS('The most expensive cities are most prone to coronovirus', posList=['ADJ'])"
   ]
  },
  {
   "cell_type": "code",
   "execution_count": 4,
   "id": "2acfb2ef-acb2-4a83-bf01-d6acdc5da054",
   "metadata": {},
   "outputs": [
    {
     "data": {
      "text/plain": [
       "'China has won the fewest gold medals in 2022 olympics'"
      ]
     },
     "execution_count": 4,
     "metadata": {},
     "output_type": "execute_result"
    }
   ],
   "source": [
    "transformer.replacePOS('China has won the most gold medals in 2022 olympics', posList=['ADJ'])"
   ]
  },
  {
   "cell_type": "code",
   "execution_count": 113,
   "id": "ed4f1bc1-b351-4628-b2d3-ca3c28ddaa17",
   "metadata": {},
   "outputs": [
    {
     "data": {
      "text/plain": [
       "'Indian politicians cheer about raise in population'"
      ]
     },
     "execution_count": 113,
     "metadata": {},
     "output_type": "execute_result"
    }
   ],
   "source": [
    "transformer.replacePOS('Indian politicians complained about raise in population', rand=True)"
   ]
  }
 ],
 "metadata": {
  "kernelspec": {
   "display_name": "Python 3 (ipykernel)",
   "language": "python",
   "name": "python3"
  },
  "language_info": {
   "codemirror_mode": {
    "name": "ipython",
    "version": 3
   },
   "file_extension": ".py",
   "mimetype": "text/x-python",
   "name": "python",
   "nbconvert_exporter": "python",
   "pygments_lexer": "ipython3",
   "version": "3.9.12"
  }
 },
 "nbformat": 4,
 "nbformat_minor": 5
}
