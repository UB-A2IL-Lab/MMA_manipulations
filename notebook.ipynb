{
 "cells": [
  {
   "cell_type": "code",
   "execution_count": 1,
   "id": "12f4f63e-c508-4b8b-9f9d-e0b930236ed2",
   "metadata": {},
   "outputs": [
    {
     "name": "stderr",
     "output_type": "stream",
     "text": [
      "/Users/vinay/miniforge3/lib/python3.9/site-packages/jax/_src/lib/__init__.py:32: UserWarning: JAX on Mac ARM machines is experimental and minimally tested. Please see https://github.com/google/jax/issues/5501 in the event of problems.\n",
      "  warnings.warn(\"JAX on Mac ARM machines is experimental and minimally tested. \"\n"
     ]
    }
   ],
   "source": [
    "from text_transformer import TTransform\n",
    "\n",
    "transformer = TTransform('', '', '.')\n",
    "posList = set(['NOUN', 'VERB', 'ADJ', 'ADV'])"
   ]
  },
  {
   "cell_type": "code",
   "execution_count": 2,
   "id": "8012b7b4-f616-4bca-99e9-1e0909be37e8",
   "metadata": {},
   "outputs": [
    {
     "name": "stdout",
     "output_type": "stream",
     "text": [
      "0 0 0 The\n",
      "1 1 4 most\n",
      "2 2 9 expensive\n",
      "3 3 19 cities\n",
      "4 4 26 are\n",
      "5 5 30 most\n",
      "6 6 35 prone\n",
      "7 7 41 to\n",
      "8 8 44 coronovirus\n"
     ]
    },
    {
     "data": {
      "text/plain": [
       "'The fewest expensive cities are most prone to coronovirus'"
      ]
     },
     "execution_count": 2,
     "metadata": {},
     "output_type": "execute_result"
    }
   ],
   "source": [
    "txt, replacements = transformer.replaceText('The most expensive cities are most prone to coronovirus', posList=['ADV'])\n",
    "txt"
   ]
  },
  {
   "cell_type": "code",
   "execution_count": 3,
   "id": "0d2f135d-2d35-4770-b9f0-542832bf868c",
   "metadata": {},
   "outputs": [
    {
     "data": {
      "text/plain": [
       "[{'word': 'most', 'replacement': 'fewest', 'startIdx': 4, 'endIdx': 7}]"
      ]
     },
     "execution_count": 3,
     "metadata": {},
     "output_type": "execute_result"
    }
   ],
   "source": [
    "replacements"
   ]
  },
  {
   "cell_type": "code",
   "execution_count": 4,
   "id": "2acfb2ef-acb2-4a83-bf01-d6acdc5da054",
   "metadata": {},
   "outputs": [
    {
     "name": "stdout",
     "output_type": "stream",
     "text": [
      "0 0 0 China\n",
      "1 1 6 has\n",
      "2 2 10 won\n",
      "3 3 14 the\n",
      "4 4 18 most\n",
      "5 5 23 gold\n",
      "6 6 28 medals\n",
      "7 7 35 in\n",
      "8 8 38 2022\n",
      "9 9 43 olympics\n"
     ]
    },
    {
     "data": {
      "text/plain": [
       "('China has won the fewest gold medals in 2022 olympics',\n",
       " [{'word': 'most', 'replacement': 'fewest', 'startIdx': 18, 'endIdx': 21}])"
      ]
     },
     "execution_count": 4,
     "metadata": {},
     "output_type": "execute_result"
    }
   ],
   "source": [
    "transformer.replaceText('China has won the most gold medals in 2022 olympics')"
   ]
  },
  {
   "cell_type": "code",
   "execution_count": 13,
   "id": "ed4f1bc1-b351-4628-b2d3-ca3c28ddaa17",
   "metadata": {},
   "outputs": [
    {
     "name": "stdout",
     "output_type": "stream",
     "text": [
      "0 0 0 Indian\n",
      "1 1 7 politicians\n",
      "2 2 19 complained\n",
      "3 3 30 about\n",
      "4 4 36 raise\n",
      "5 5 42 in\n",
      "6 6 45 population\n"
     ]
    },
    {
     "data": {
      "text/plain": [
       "('Indian politicians complained about lower in population',\n",
       " [{'word': 'raise', 'replacement': 'lower', 'startIdx': 36, 'endIdx': 40}])"
      ]
     },
     "execution_count": 13,
     "metadata": {},
     "output_type": "execute_result"
    }
   ],
   "source": [
    "transformer.replaceText('Indian politicians complained about raise in population')"
   ]
  }
 ],
 "metadata": {
  "kernelspec": {
   "display_name": "Python 3 (ipykernel)",
   "language": "python",
   "name": "python3"
  },
  "language_info": {
   "codemirror_mode": {
    "name": "ipython",
    "version": 3
   },
   "file_extension": ".py",
   "mimetype": "text/x-python",
   "name": "python",
   "nbconvert_exporter": "python",
   "pygments_lexer": "ipython3",
   "version": "3.9.12"
  }
 },
 "nbformat": 4,
 "nbformat_minor": 5
}
