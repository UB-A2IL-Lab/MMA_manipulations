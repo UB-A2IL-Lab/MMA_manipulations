{
 "cells": [
  {
   "cell_type": "code",
   "execution_count": 10,
   "id": "12f4f63e-c508-4b8b-9f9d-e0b930236ed2",
   "metadata": {},
   "outputs": [],
   "source": [
    "import copy\n",
    "import json\n",
    "from text_transformer import TTransform\n",
    "\n",
    "transformer = TTransform('', '', '.')\n",
    "posList = set(['NOUN', 'VERB', 'ADJ', 'ADV'])"
   ]
  },
  {
   "cell_type": "code",
   "execution_count": null,
   "id": "8012b7b4-f616-4bca-99e9-1e0909be37e8",
   "metadata": {},
   "outputs": [],
   "source": [
    "txt, replacements = transformer.replaceText('The most expensive cities are most prone to coronovirus', posList=['ADV'])\n",
    "txt"
   ]
  },
  {
   "cell_type": "code",
   "execution_count": 2,
   "id": "2acfb2ef-acb2-4a83-bf01-d6acdc5da054",
   "metadata": {},
   "outputs": [
    {
     "data": {
      "text/plain": [
       "('Chinas has won the fewest US medals in 2022 2021 2222 olympics',\n",
       " {most: 'fewest'})"
      ]
     },
     "execution_count": 2,
     "metadata": {},
     "output_type": "execute_result"
    }
   ],
   "source": [
    "transformer.replaceLine(\"China's has won the most, U.S. medals in 2022, 2021, 2222 olympics\")"
   ]
  },
  {
   "cell_type": "code",
   "execution_count": null,
   "id": "36bbad61-80f0-4888-b2f2-edc23265b5b3",
   "metadata": {},
   "outputs": [],
   "source": [
    "line = 'Indian politicians complained about raise in population'\n",
    "getStartIdx(line.split(' '), 2)"
   ]
  },
  {
   "cell_type": "code",
   "execution_count": null,
   "id": "ed4f1bc1-b351-4628-b2d3-ca3c28ddaa17",
   "metadata": {},
   "outputs": [],
   "source": [
    "transformer.replaceText('Indian politicians complained about raise in population')"
   ]
  },
  {
   "cell_type": "code",
   "execution_count": 3,
   "id": "5c722fe2-8ad6-4077-952e-a1820f9ae516",
   "metadata": {},
   "outputs": [],
   "source": [
    "import json"
   ]
  },
  {
   "cell_type": "code",
   "execution_count": 7,
   "id": "7736a4ca-7ffd-4147-8a1f-2253b4bf5055",
   "metadata": {},
   "outputs": [],
   "source": [
    "with open('pos_text.json', 'r') as f:\n",
    "    pos = json.load(f)"
   ]
  },
  {
   "cell_type": "code",
   "execution_count": 8,
   "id": "facd54e3-36b0-4ebb-aea3-5b79c7c845af",
   "metadata": {},
   "outputs": [],
   "source": [
    "with open('info.json', 'r') as f:\n",
    "    i = json.load(f)"
   ]
  },
  {
   "cell_type": "code",
   "execution_count": null,
   "id": "5dea9b46-6f7e-420b-a914-04a7edc8ad80",
   "metadata": {},
   "outputs": [],
   "source": [
    "i['23346']"
   ]
  },
  {
   "cell_type": "code",
   "execution_count": null,
   "id": "4182a942-2cdb-4ab0-807b-eb5ed533a131",
   "metadata": {},
   "outputs": [],
   "source": [
    "i['28367']"
   ]
  },
  {
   "cell_type": "code",
   "execution_count": null,
   "id": "ee85a3e2-6f66-4e1a-9a59-9237c0387439",
   "metadata": {},
   "outputs": [],
   "source": [
    "newD['28367']"
   ]
  },
  {
   "cell_type": "code",
   "execution_count": 9,
   "id": "7150202e-683e-497d-b277-7b2a0460bacd",
   "metadata": {},
   "outputs": [
    {
     "data": {
      "text/plain": [
       "[{'title': {'original': \"Europe's independent hotels are slowly displaced by chains\",\n",
       "   'modified': 'Europes independent hotels are slowly displaced by unchain',\n",
       "   'replacement': {'chains': 'unchain'}}}]"
      ]
     },
     "execution_count": 9,
     "metadata": {},
     "output_type": "execute_result"
    }
   ],
   "source": [
    "pos['28367']"
   ]
  },
  {
   "cell_type": "code",
   "execution_count": 11,
   "id": "e4f33af6-1d30-4645-9d29-a14e4e00ce47",
   "metadata": {},
   "outputs": [],
   "source": [
    "posD = copy.deepcopy(pos)"
   ]
  },
  {
   "cell_type": "code",
   "execution_count": null,
   "id": "9337a9d2-c216-458a-a4fa-3be92762201d",
   "metadata": {},
   "outputs": [],
   "source": [
    "for key in pos"
   ]
  },
  {
   "cell_type": "code",
   "execution_count": null,
   "id": "ed9609ff-32eb-4015-a0b6-217df86007e5",
   "metadata": {},
   "outputs": [],
   "source": [
    "\n",
    "newD = copy.deepcopy(i)\n",
    "\n",
    "for imgId in pos:\n",
    "    text = pos[imgId]['type']['text']\n",
    "    if text:\n",
    "        newD[imgId]['title'] = text[0]['title']['modified']"
   ]
  },
  {
   "cell_type": "code",
   "execution_count": null,
   "id": "de0d98b2-abbc-4f66-8dfc-5bfaf869bc3d",
   "metadata": {},
   "outputs": [],
   "source": [
    "with open('info_title_pos.json', 'w') as f:\n",
    "    json.dump(newD, f)"
   ]
  },
  {
   "cell_type": "code",
   "execution_count": null,
   "id": "af2051ad-efe8-4fac-a27c-67e616f9e313",
   "metadata": {},
   "outputs": [],
   "source": [
    "with open('pos_text.json', 'w') as f:\n",
    "    json.dump(posD, f)"
   ]
  },
  {
   "cell_type": "code",
   "execution_count": null,
   "id": "7cca3914-0483-4cf1-a728-7938cd3a9140",
   "metadata": {},
   "outputs": [],
   "source": [
    "with open('pos_ocr.json', 'w') as f:\n",
    "    json.dump(ocrD, f)"
   ]
  }
 ],
 "metadata": {
  "kernelspec": {
   "display_name": "Python 3 (ipykernel)",
   "language": "python",
   "name": "python3"
  },
  "language_info": {
   "codemirror_mode": {
    "name": "ipython",
    "version": 3
   },
   "file_extension": ".py",
   "mimetype": "text/x-python",
   "name": "python",
   "nbconvert_exporter": "python",
   "pygments_lexer": "ipython3",
   "version": "3.9.12"
  }
 },
 "nbformat": 4,
 "nbformat_minor": 5
}
